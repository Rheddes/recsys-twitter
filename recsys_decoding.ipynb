{
  "nbformat": 4,
  "nbformat_minor": 0,
  "metadata": {
    "colab": {
      "name": "recsys_decoding.ipynb",
      "provenance": [],
      "collapsed_sections": [],
      "toc_visible": true,
      "machine_shape": "hm"
    },
    "kernelspec": {
      "name": "python3",
      "display_name": "Python 3"
    }
  },
  "cells": [
    {
      "cell_type": "markdown",
      "metadata": {
        "id": "view-in-github",
        "colab_type": "text"
      },
      "source": [
        "<a href=\"https://colab.research.google.com/github/Rheddes/recsys-twitter/blob/master/recsys_twitter_cpu.ipynb\" target=\"_parent\"><img src=\"https://colab.research.google.com/assets/colab-badge.svg\" alt=\"Open In Colab\"/></a>"
      ]
    },
    {
      "cell_type": "markdown",
      "metadata": {
        "id": "ZSZn8mKIfxjK",
        "colab_type": "text"
      },
      "source": [
        "# Necessary imports & definitions\n",
        "\n",
        "Copy files from drive to local disk, not necessary it is also possible to work directly from drive."
      ]
    },
    {
      "cell_type": "code",
      "metadata": {
        "id": "MpSznekwqG7B",
        "colab_type": "code",
        "outputId": "4b4873a2-fbf6-4a15-bc4b-36207595f7e1",
        "colab": {
          "base_uri": "https://localhost:8080/",
          "height": 55
        }
      },
      "source": [
        "from google.colab import drive\n",
        "drive.mount('/content/drive')"
      ],
      "execution_count": 1,
      "outputs": [
        {
          "output_type": "stream",
          "text": [
            "Drive already mounted at /content/drive; to attempt to forcibly remount, call drive.mount(\"/content/drive\", force_remount=True).\n"
          ],
          "name": "stdout"
        }
      ]
    },
    {
      "cell_type": "code",
      "metadata": {
        "id": "r1D3hQ7N2MNR",
        "colab_type": "code",
        "colab": {}
      },
      "source": [
        "# !cp ./drive/My\\ Drive/RecSys/train_updated.tsv train_updated.tsv\n",
        "# !cp ./drive/My\\ Drive/RecSys/sample.tsv sample.tsv "
      ],
      "execution_count": 0,
      "outputs": []
    },
    {
      "cell_type": "markdown",
      "metadata": {
        "id": "UqMvNlDcTy-u",
        "colab_type": "text"
      },
      "source": [
        "Set train file variable to correct path"
      ]
    },
    {
      "cell_type": "code",
      "metadata": {
        "id": "DHeXqCv8Tmwg",
        "colab_type": "code",
        "colab": {}
      },
      "source": [
        "train_file = 'sample.tsv'"
      ],
      "execution_count": 0,
      "outputs": []
    },
    {
      "cell_type": "code",
      "metadata": {
        "id": "lqC6wY0xrZEN",
        "colab_type": "code",
        "outputId": "9094dc45-272a-427b-e35d-e08afbfd1510",
        "colab": {
          "base_uri": "https://localhost:8080/",
          "height": 35
        }
      },
      "source": [
        "cd /content/drive/My Drive/JKU/LFUGD"
      ],
      "execution_count": 4,
      "outputs": [
        {
          "output_type": "stream",
          "text": [
            "/content/drive/My Drive/JKU/LFUGD\n"
          ],
          "name": "stdout"
        }
      ]
    },
    {
      "cell_type": "markdown",
      "metadata": {
        "id": "sKpRWGTETnLR",
        "colab_type": "text"
      },
      "source": [
        "## Install transformers (for BERT models)\n"
      ]
    },
    {
      "cell_type": "code",
      "metadata": {
        "id": "6MSNEuZ9vf-W",
        "colab_type": "code",
        "outputId": "e88728e1-7a21-4d04-feae-ce2956ce98c6",
        "colab": {
          "base_uri": "https://localhost:8080/",
          "height": 346
        }
      },
      "source": [
        "!pip install transformers"
      ],
      "execution_count": 5,
      "outputs": [
        {
          "output_type": "stream",
          "text": [
            "Requirement already satisfied: transformers in /usr/local/lib/python3.6/dist-packages (2.9.1)\n",
            "Requirement already satisfied: filelock in /usr/local/lib/python3.6/dist-packages (from transformers) (3.0.12)\n",
            "Requirement already satisfied: requests in /usr/local/lib/python3.6/dist-packages (from transformers) (2.23.0)\n",
            "Requirement already satisfied: sacremoses in /usr/local/lib/python3.6/dist-packages (from transformers) (0.0.43)\n",
            "Requirement already satisfied: regex!=2019.12.17 in /usr/local/lib/python3.6/dist-packages (from transformers) (2019.12.20)\n",
            "Requirement already satisfied: numpy in /usr/local/lib/python3.6/dist-packages (from transformers) (1.18.4)\n",
            "Requirement already satisfied: sentencepiece in /usr/local/lib/python3.6/dist-packages (from transformers) (0.1.90)\n",
            "Requirement already satisfied: tqdm>=4.27 in /usr/local/lib/python3.6/dist-packages (from transformers) (4.41.1)\n",
            "Requirement already satisfied: tokenizers==0.7.0 in /usr/local/lib/python3.6/dist-packages (from transformers) (0.7.0)\n",
            "Requirement already satisfied: dataclasses; python_version < \"3.7\" in /usr/local/lib/python3.6/dist-packages (from transformers) (0.7)\n",
            "Requirement already satisfied: chardet<4,>=3.0.2 in /usr/local/lib/python3.6/dist-packages (from requests->transformers) (3.0.4)\n",
            "Requirement already satisfied: urllib3!=1.25.0,!=1.25.1,<1.26,>=1.21.1 in /usr/local/lib/python3.6/dist-packages (from requests->transformers) (1.24.3)\n",
            "Requirement already satisfied: certifi>=2017.4.17 in /usr/local/lib/python3.6/dist-packages (from requests->transformers) (2020.4.5.1)\n",
            "Requirement already satisfied: idna<3,>=2.5 in /usr/local/lib/python3.6/dist-packages (from requests->transformers) (2.9)\n",
            "Requirement already satisfied: joblib in /usr/local/lib/python3.6/dist-packages (from sacremoses->transformers) (0.15.0)\n",
            "Requirement already satisfied: click in /usr/local/lib/python3.6/dist-packages (from sacremoses->transformers) (7.1.2)\n",
            "Requirement already satisfied: six in /usr/local/lib/python3.6/dist-packages (from sacremoses->transformers) (1.12.0)\n"
          ],
          "name": "stdout"
        }
      ]
    },
    {
      "cell_type": "markdown",
      "metadata": {
        "id": "UvX-aYUwTv8C",
        "colab_type": "text"
      },
      "source": [
        "## Imports"
      ]
    },
    {
      "cell_type": "code",
      "metadata": {
        "id": "BVMsiUBbfw14",
        "colab_type": "code",
        "colab": {}
      },
      "source": [
        "import pandas as pd\n",
        "# import numpy as np\n",
        "# import csv\n",
        "# import math\n",
        "# import torch\n",
        "# import gc\n",
        "import transformers as ppb\n",
        "# from sklearn.model_selection import train_test_split\n",
        "# from sklearn.linear_model import LogisticRegression\n",
        "# from sklearn.model_selection import GridSearchCV\n",
        "# from sklearn.model_selection import cross_val_score\n",
        "import warnings\n",
        "warnings.filterwarnings('ignore')"
      ],
      "execution_count": 0,
      "outputs": []
    },
    {
      "cell_type": "markdown",
      "metadata": {
        "id": "sgEcpwUjUCKn",
        "colab_type": "text"
      },
      "source": [
        "## Load pretrained models"
      ]
    },
    {
      "cell_type": "code",
      "metadata": {
        "id": "_m0j0hpGs4kr",
        "colab_type": "code",
        "outputId": "1f0ed9b6-faa7-4589-bce6-d01e8ff004c9",
        "colab": {
          "base_uri": "https://localhost:8080/",
          "height": 35
        }
      },
      "source": [
        "# For DistilBERT:\n",
        "# model_class, tokenizer_class, pretrained_weights = (ppb.DistilBertModel, ppb.DistilBertTokenizer, 'distilbert-base-multilingual-cased')\n",
        "\n",
        "## Want BERT instead of distilBERT? Uncomment the following line:\n",
        "model_class, tokenizer_class, pretrained_weights = (ppb.BertModel, ppb.BertTokenizer, 'bert-base-multilingual-cased')\n",
        "\n",
        "# Load pretrained model/tokenizer\n",
        "tokenizer = tokenizer_class.from_pretrained(pretrained_weights, do_lower_case=False)\n",
        "model = model_class.from_pretrained(\n",
        "    pretrained_weights,\n",
        "    output_attentions = False,\n",
        "    output_hidden_states = True,\n",
        ")\n",
        "model.eval()\n",
        "\n",
        "print('done')"
      ],
      "execution_count": 9,
      "outputs": [
        {
          "output_type": "stream",
          "text": [
            "done\n"
          ],
          "name": "stdout"
        }
      ]
    },
    {
      "cell_type": "markdown",
      "metadata": {
        "id": "AI1kmB_af9WF",
        "colab_type": "text"
      },
      "source": [
        "# Read the desired dataset\n",
        "\n",
        "This piece of code can be used to read the desired dataset into memory as a Pandas dataframe."
      ]
    },
    {
      "cell_type": "code",
      "metadata": {
        "id": "IAAWvn6uadyv",
        "colab_type": "code",
        "outputId": "a5504b7f-055d-44f0-9c30-3134e71f5004",
        "colab": {
          "base_uri": "https://localhost:8080/",
          "height": 35
        }
      },
      "source": [
        "all_features = [\"text_tokens\", \"hashtags\", \"tweet_id\", \"present_media\", \"present_links\", \"present_domains\",\n",
        "                \"tweet_type\", \"language\", \"tweet_timestamp\", \"engaged_with_user_id\", \"engaged_with_user_follower_count\",\n",
        "                \"engaged_with_user_following_count\", \"engaged_with_user_is_verified\",\n",
        "                \"engaged_with_user_account_creation\", \"enaging_user_id\", \"enaging_user_follower_count\",\n",
        "                \"enaging_user_following_count\",\n",
        "                \"enaging_user_is_verified\", \"enaging_user_account_creation\", \"engagee_follows_engager\",\n",
        "                \"reply_timestamp\", \"retweet_timestamp\", \"retweet_with_comment_timestamp\", \"like_timestamp\"]\n",
        "                \n",
        "dataset = pd.read_csv(train_file, delimiter=\"\\x01\", encoding='utf-8', header=None)\n",
        "dataset.columns = all_features\n",
        "print(\"done\")"
      ],
      "execution_count": 12,
      "outputs": [
        {
          "output_type": "stream",
          "text": [
            "done\n"
          ],
          "name": "stdout"
        }
      ]
    },
    {
      "cell_type": "markdown",
      "metadata": {
        "id": "aNtFB6bSIJA6",
        "colab_type": "text"
      },
      "source": [
        "Create a small batch of samples"
      ]
    },
    {
      "cell_type": "code",
      "metadata": {
        "id": "_XianHjxICqs",
        "colab_type": "code",
        "colab": {
          "base_uri": "https://localhost:8080/",
          "height": 272
        },
        "outputId": "2a3d4a27-a61c-4c4d-cca5-a484c886e9ef"
      },
      "source": [
        "batch_1 = dataset[:200]\n",
        "print(batch_1)"
      ],
      "execution_count": 13,
      "outputs": [
        {
          "output_type": "stream",
          "text": [
            "                                           text_tokens  ... like_timestamp\n",
            "0    101\\t56898\\t137\\t33909\\t10107\\t11490\\t10288\\t2...  ...            NaN\n",
            "1    101\\t137\\t74039\\t12436\\t12396\\t12436\\t27746\\t9...  ...   1.581308e+09\n",
            "2    101\\t13229\\t21885\\t10681\\t10380\\t31747\\t71309\\...  ...   1.581350e+09\n",
            "3    101\\t14820\\t100\\t188\\t83279\\t10142\\t10751\\t105...  ...            NaN\n",
            "4    101\\t56898\\t137\\t12001\\t10731\\t20498\\t20467\\t1...  ...            NaN\n",
            "..                                                 ...  ...            ...\n",
            "195  101\\t56898\\t137\\t156\\t11703\\t10162\\t11447\\t349...  ...            NaN\n",
            "196  101\\t56898\\t137\\t58768\\t28558\\t68748\\t131\\t121...  ...            NaN\n",
            "197  101\\t11518\\t45632\\t10192\\t10312\\t43330\\t10107\\...  ...   1.581008e+09\n",
            "198  101\\t59533\\t12028\\t89512\\t184\\t11703\\t10164\\t8...  ...            NaN\n",
            "199  101\\t1894\\t5900\\t2226\\t2179\\t100775\\t3365\\t200...  ...   1.581286e+09\n",
            "\n",
            "[200 rows x 24 columns]\n"
          ],
          "name": "stdout"
        }
      ]
    },
    {
      "cell_type": "code",
      "metadata": {
        "id": "496tW2NqJHsc",
        "colab_type": "code",
        "colab": {
          "base_uri": "https://localhost:8080/",
          "height": 1000
        },
        "outputId": "216e4832-8f9b-4192-d2cf-dead7b49fe5e"
      },
      "source": [
        "for sample in batch_1['text_tokens']:\n",
        "  token_list = sample.split('\\t')\n",
        "  decoded_text = tokenizer.decode(token_list)\n",
        "  print(decoded_text)"
      ],
      "execution_count": 14,
      "outputs": [
        {
          "output_type": "stream",
          "text": [
            "[CLS] RT @ CrysDrawsThings : Okay, so as I promised - # TES Race and Cultures positivity. Subjective opinions of Crys.. In no particular order and no [UNK] [SEP]\n",
            "[CLS] @ AssassinateHate Exactly. Not enough time left before the deadline to have any kind of hopes for the season. Our FO has to do something this time. No other options. Need to get ready for the future. [SEP]\n",
            "[CLS] Herkesten soğuduğunu fark etmek 10 / 10 [SEP]\n",
            "[CLS] Can [UNK] t wait for new extensions and brows [SEP]\n",
            "[CLS] RT @ LandSuzume : https : / / t. co / hwVyFhfsx2 [SEP]\n",
            "[CLS] 멋지다 ！ ！ ！ ！ ♡♡. かーわいい ！ [SEP]\n",
            "[CLS] RT @ camarotedasagui : se eu fosse assim eu me aceitava facinho kkkkk [SEP]\n",
            "[CLS] RT @ Julietapasader1 : Estoy de los trabajos de 15 días de formación remunerados después del mes de prueba hasta el coño... ¿ comemos del aire? [UNK] [SEP]\n",
            "[CLS] And now we wait... [SEP]\n",
            "[CLS] RT @ reddit _ lisp : # Common _ Lisp Weblocks web framework : routing tutorial | https : / / t. co / bkXLxI3Qm8 [SEP]\n",
            "[CLS] Kkkkkk aiai [UNK] [SEP]\n",
            "[CLS] Por favor!!!!! [SEP]\n",
            "[CLS] Why we don't have a food court in WizardCity? I want some WizDonalds, wizpotle or some Little Wizhead Pizza. [SEP]\n",
            "[CLS] Kok perasaan kek nano - nano gini ya [SEP]\n",
            "[CLS] Todo en negro es demasiado bello. Fin. [SEP]\n",
            "[CLS] Favorite MF Doom album? https : / / t. co / XjW2lLzU3q [SEP]\n",
            "[CLS] [UNK] Días # ReflexiónDelDía # Imagina # MiraMásAllá @ lasallearlep @ lasalleorg @ salleandalucia https : / / t. co / Rg9EIGcKY7 [SEP]\n",
            "[CLS] RT @ DenisBrogniart : Les amis fin du suspens # kohlanta L [UNK] île des héros revient sur @ TF1 le vendredi 21 février! Je vous promets un grand cru [UNK] [SEP]\n",
            "[CLS] https : / / t. co / YaTq144nuC [SEP]\n",
            "[CLS] 3 years ago I wrote :. # SwiftOnSecurity needs to go rogue!. @ AltNatParkSer - 1, 046, 000 followers. @ RogueNASA - 376, 000 followers. @ SwiftOnSecurity - 163, 000 followers. Now :. @ AltNatParkSer - 79, 200 followers ( no tweets ). @ RogueNASA - 843, 300 followers. @ SwiftOnSecurity - 300, 700 followers [SEP]\n",
            "[CLS] [UNK] # CelinevanOuytsel # Repost https : / / t. co / BhUCCcGZPb [SEP]\n",
            "[CLS] RT @ PageSix : Hunter Biden snapped grabbing lunch with pregnant wife at Waldorf Astoria https : / / t. co / 3nqLdW8F5A https : / / t. co / y6cJmgU0cQ [SEP]\n",
            "[CLS] RT @ NitsirtKills : [UNK] what the fuck are u talking about. [SEP]\n",
            "[CLS] Confirmen si esto sonó como cuando bates una alcancía. [SEP]\n",
            "[CLS] 5, 3, D [SEP]\n",
            "[CLS] This is some wicked shit if that [UNK] s for [UNK] clout. [UNK] This young generation is fucking lost. Suicide ain [UNK] t shit to joke about, nor is depression! That shits REAL! The fuck wrong with kids these kids. The growth of social media has done more damage than good. Smfh [SEP]\n",
            "[CLS] RT @ Luca _ hisui : 日 本 ハム ・ ビヤヌエバが 来 日 大 砲 への 期 待 「 100 ％ の 力 を 出 し 切 りたい 」. https : / / t. co / riPp4HEzcd. 昨 季 は 外 国 人 枠 の 影 響 もあって73 試 合 の 出 場 で8 本 塁 打 にとどまったが 、 「 去 年 はチャンスが 足 りなかった 。.. ロマックみたいなこと 言 [UNK] [SEP]\n",
            "[CLS] Aún no logro descifrar el por qué me gustan tanto las canciones de Cristian Castro. [SEP]\n",
            "[CLS] RT @ sofimagallon : Ya me quiero ir a vallartaa [SEP]\n",
            "[CLS] RT @ Vs _ Winter _ Bear : They say people wear their hearts on their sleeve. Jungkook [UNK] s sleeve wasn [UNK] t long enough to hold his huge heart, it exte [UNK] [SEP]\n",
            "[CLS] RT @ BikkuriMoon : なんでもミュウに 覚 えさせようとする 人 https : / / t. co / ZXAyrg5B5j [SEP]\n",
            "[CLS] RT @ dorisolaitan _ : does anyone else ever get the random urge to get your life together in the middle of the night? [SEP]\n",
            "[CLS] Ion know how folks sleep wit da heat on [SEP]\n",
            "[CLS] RT @ Sports _ Spectrum : \" His timing is always perfect. \".. Chiefs lineman @ stefenwiz61 on his faith at Super Bowl LIV https : / / t. co / rTdFcqYzHh [SEP]\n",
            "[CLS] The ease with which she let those kiddos have their way with her has my heart but makes me jealous too : ).. Like @ Divyanka _ T you better allow me to pull your cheeks whenever / if ever we meet. Thanks [UNK] https : / / t. co / o7qgIszlV5 [SEP]\n",
            "[CLS] ตอนนี้ตัดปัญหาลบเพื่อนบล็อค ไม่ได้เป็นแม่กูนะทำไมกูต้องแคร์มึงล่ะอิห่า ใครจะบอกว่ากูหยาบ ก็ช่างแม่งละ ชีวิตจริงก็หยาบๆเนี่ยแหละ [SEP]\n",
            "[CLS] It's 3 am, I'm awake with a headache, and I tried to type a tweet into the recipient line of a text message. [SEP]\n",
            "[CLS] RT @ Tingaling007 : Not newsworthy @ BBCNews @ bbclaurak # r4today?.. It has come to something when we learn more about the world around us by th [UNK] [SEP]\n",
            "[CLS] 大 阪 [UNK]. 3 月 に 旅 行 行 こうと 思 [UNK]. ライブ 行 くのも 怖 くなってきた [UNK]. バスで 伝 染 るんだろうなー https : / / t. co / owlIkoY4l8 [SEP]\n",
            "[CLS] Go Ridge Point Science! https : / / t. co / hodKh2fTdD [SEP]\n",
            "[CLS] @ GummallaSrijana @ ysjagan @ AndhraPradeshCM @ MaUdGovtofAp @ SwachhBharatGov @ GvmcS @ swachhbharat @ GVMC _ OFFICIAL I support vizag.. # SwachhSurvekshan2020visakhapatnam [SEP]\n",
            "[CLS] RT @ arianawyaa : [UNK] WhY aRe yOu AlWaYs oN TwItTeR [UNK].. Because I don [UNK] t have anyone to talk to you crackhead [SEP]\n",
            "[CLS] 1 / 30 発 売 [UNK] 、 フォロワーさんから 購 入 しましたー 、 と 連 絡 を 頂 [UNK] 感 謝 [UNK] Amazonでもう 出 てた 〜 [UNK].. ギターで 奏 でる / 宮 崎 駿 & amp ; スタジオジブリ 〈 ファンタジー 編 〉. https : / / t. co / r9TqC1WbAb.. # ジブリ. # 相 互 フォロー. # フォローバック. # リツイート 企 画. # 相 互 さんと 繋 がりたい. # followme [SEP]\n",
            "[CLS] Gave a seminar at @ IowaStateMSE, and learned quite a deal about glassy solid electrolytes. Thanks Prof. Steve Martin for the invitation! https : / / t. co / MTR59WISR5 [SEP]\n",
            "[CLS] RT @ hellotaomiki : なんかうっすら 不 快 なツイートだな [UNK] お 母 さんにクッソ 甘 えてんだなぁと 思 う 。 尊 重 するべき 他 人 ぞ 。. 冷 凍 食 品 入 ってたらなんだってんだろ 。 自 分 の 気 分 で 食 べたくないって 言 ったり 食 べたいって 言 ったり 、 それに 応 えるのが 母 親 の 愛 情 とか 思 いこんでない ？ [SEP]\n",
            "[CLS] RT @ yuzarsiiiff : Kadınlara bir şey söylemek istiyorum. Sizin kıyafetinize karışan biri varsa direkt şutlayın. Kadınlar cidden sevdikleri bi [UNK] [SEP]\n",
            "[CLS] گزشتہ چند روز سے بحریہ ٹاؤن کراچی کے ڈویلپمنٹ چارجز کے متعلق بہت سے سوالات کئے جا رہے ہیں ۔ میں یہ واضح کرنا چاہتا ہوں کہ ڈویلپمنٹ چارجز بحریہ ٹاؤن کے ساتھ آپ کے معاہدہ میں شامل ہیں جو خریداری سے قبل آپ کو دکھایا جاتا ہے ۔. 1 / 3 https : / / t. co / Tlc2Mam7jm [SEP]\n",
            "[CLS] RT @ febiasilva : Hola queres recorrer todo el sur conmigo?.. - Enviar [SEP]\n",
            "[CLS] RT @ Allanah _ Morales : Lmao don [UNK] t nobody give af if that nigga mad [SEP]\n",
            "[CLS] RT @ colleenSc _ : jamais essayé [SEP]\n",
            "[CLS] RT @ pagodeiro _ citou : quem mandou você roubar o brilho do sol e guardar dentro do olhar [SEP]\n",
            "[CLS] RT @ Caleb _ Parker : Happy Friday.. We've been acquired by @ Newable! [UNK].. # WorkBold [UNK] https : / / t. co / B1c4LC6W7y [SEP]\n",
            "[CLS] 見 忘 れてた 動 画 見 ないとって 見 始 めたものがとてもひどいものだった 時 [SEP]\n",
            "[CLS] あいのりサイコウやばすぎた... [SEP]\n",
            "[CLS] @ demonicwimp meanwhile i went to life drawing sessions to draw nude models in middle school [SEP]\n",
            "[CLS] RT @ Mufaa6 : Is this even earth on lol? https : / / t. co / 9m1atfEOr3 [SEP]\n",
            "[CLS] RT @ Ranal55 : We need to fill our minds so full of His Word that there won't be any room for doubt... # quote # WordofGod # doubt https : / / t. co [UNK] [SEP]\n",
            "[CLS] いや 、 これ 破 壊 力 史 上 最 強 でしょ. 最 後 5 人 が 近 すぎて 死 [UNK] https : / / t. co / gIkiPT7r97 [SEP]\n",
            "[CLS] RT @ 30SecFights : Never forget when my man got hit in the balls for no reason [UNK] https : / / t. co / E5fk1IB5cx [SEP]\n",
            "[CLS] RT @ AlaaEvy : @ nrmeen _ assar [UNK] الللههه بجد https : / / t. co / Y9p3cMt5q8 [SEP]\n",
            "[CLS] RT @ AbdiTV : This is Katie Hopkins..... a YouTuber pranked her and made her fly to Prague to accept a fake award https : / / t. co / 8k2l8Etqrh [SEP]\n",
            "[CLS] Nice but after 5 / 6 make the roof of your mouth feel like you [UNK] ve been licking a seal [SEP]\n",
            "[CLS] ¿ cómo sobrevivir la próxima semana con 100 pesos? yahoo respuestas [SEP]\n",
            "[CLS] Aus gegebenem Anlass : - ( - ( all fingers crossed ) https : / / t. co / hxEb2V3Dge.. https : / / t. co / RqnKywdQih [SEP]\n",
            "[CLS] やっぱり 、 ふと 、 あの 子 思 い 出 して 、 ため 息 。. 何 かに 気 を 取 られてないと 、 この 思 い 出 す 瞬 間 が 訪 れて 、 ぎゅっと 体 が 締 め 付 けられる 。. つくづく 、 実 の 親 以 上 に 支 えられてたんだと 実 感.... でも 、 どうすることもできなかった 、 とも 思 う 。. 休 日 は 、 特 に 今 日 は 、 ぐるぐる 、 心 巡 った１ 日 [UNK] [SEP]\n",
            "[CLS] RT @ Papizayyyy : I give it 48 hours max. [SEP]\n",
            "[CLS] you say something to ONE person and 2 days later the whole fucking world knows. can [UNK] t trust no one out here anymore [SEP]\n",
            "[CLS] Gör isterdim sana bir mucizeye bakar gibi baktığımı [SEP]\n",
            "[CLS] RT @ VW _ es : Como hoy es el # DíaDelCommunityManager y no tengo fiesta, he pactado con los jefes que por cada RT saldré 1 minuto antes y por c [UNK] [SEP]\n",
            "[CLS] ♡ 交 換 ♡. ŹOOĻ マチアソビカフェ ufotable コースター.. 譲 [UNK] トウマ ( ノーマル ).. 求 [UNK] 悠 ( ノーマル ).. 郵 送 交 換 のみとなります. フォロー 外 、 検 索 からもお 気 軽 にお 声 がけ 下 さい ！ よろしくお 願 い 致 [UNK] https : / / t. co / SOUwJnN7RU [SEP]\n",
            "[CLS] RT @ DuniaReality : Hi warga twitter. saya nak followers nnti saya followback okkay. tolong rt nie. pleasee... [SEP]\n",
            "[CLS] RT @ cps _ niconico : # コンパス [UNK].. オリジナルヒーロー. 「 魔 法 少 女 ルルカ 」. 1 月 27 日 ( 月 ) メンテ 後 登 場 ！.. # コンパスフェス3rd で 公 開 された 、 短 編 アニメからの 参 戦 です ！ ！.. ▼ 夢 を 光 に 、 愛 をとどけに ！. https : / / t. co / h6E6Xt [UNK] [SEP]\n",
            "[CLS] WBB | Nothing better than a Wednesday road test! @ CornerstoneWBB travels to @ NAIA No. 13 @ INTechWarriors tonight for a 6 p. m. tip! # TogetherweSOAR https : / / t. co / zjut5h66zB [SEP]\n",
            "[CLS] @ VoceroPR Que lumbreras hay en el @ SenadoPR [SEP]\n",
            "[CLS] 皆 さん 良 く 思 い 出 して ！. SARSの 時 は 日 本 には 発 症 者 はいなかったんですよ 。. 今 回 がいかに 危 険 な 状 況 かわかるよね 。 [SEP]\n",
            "[CLS] RT @ jorgecordeiroo : É uma questão de respeito e o saber valorizar um homem que teve uma enorme carreira [SEP]\n",
            "[CLS] 蒸 し 終 [UNK]. めちゃめちゃ 恨 めしそうにみるやん 笑.. [UNK] [UNK] [UNK] [UNK] [UNK] 、 [UNK] https : / / t. co / VTCVZYbCRD [SEP]\n",
            "[CLS] 3 people followed me and 4 people unfollowed me / / automatically checked by https : / / t. co / 1GCPSlgaSE [SEP]\n",
            "[CLS] RT @ nocontextfooty : https : / / t. co / Vs3zIWKQ7v [SEP]\n",
            "[CLS] 31 https : / / t. co / ID4iHMyrnt [SEP]\n",
            "[CLS] RT @ melisceyda10 : Betül hanım sikişmek istiyormuş en azgınlar dm atsın diyor 42 yaşında https : / / t. co / y5vDvrDUOi [SEP]\n",
            "[CLS] RT @ chixs _ cutie : @ Immigyboy @ mor1019 Di naman araw araw every other day lang hahaha. pampatulog ko yun hahaha.. @ mor1019. # MORHot10 KAKAYANIN [UNK] [SEP]\n",
            "[CLS] @ SandyenAmor! Feliz y bonito martes! [UNK] [SEP]\n",
            "[CLS] RT @ mqmypp : แม้โลกทั้งใบนี้จะไม่มีใคร ให้เธอมองกลับมาฉันนั้นจะยืนข้างเธอ [SEP]\n",
            "[CLS] Don't forget you get paid with $ CALL tokens to simply read articles such as these! Check this out and follow @ GlobalCryptoAll!. https : / / t. co / EAylfxmF7e [SEP]\n",
            "[CLS] RT @ Louis _ Tomlinson : Lyric videos for each track off # Walls are also up on YouTube! Check [UNK] em out https : / / t. co / hW9OOyPaWY https : / / t. co / tR8 [UNK] [SEP]\n",
            "[CLS] Sigo dando vueltas, dando vueltas hoy! [SEP]\n",
            "[CLS] \" @ V _ Solovey Валерий Дмитриевич, надо было со вложением писать! @ partrost, да приложи к письму какой - нибудь петербургский гостинец [UNK] сигар, что ли. [UNK] https : / / t. co / Of43v9JgnA [SEP]\n",
            "[CLS] Some of our team leads stayed late to get our first rolling chassis bolted together. A lot of hours have been put in so far. Can't wait to see it all come together. # wearecsd # PrideCHS https : / / t. co / dlNlxPhZmC [SEP]\n",
            "[CLS] RT @ brfootball : BREAKING : Christian Eriksen has completed his move from Tottenham to Inter Milan [UNK] https : / / t. co / 2SBQgd0luo [SEP]\n",
            "[CLS] RT @ FAMOFREEMAN : Trade : Unlock your pics... Me : https : / / t. co / jCDfBFhKry [SEP]\n",
            "[CLS] RT @ secretsyyo : Marcela : Agora a gente vai guerrear contra eles... Eu chegando pra guerrear junto.. # BBB20 https : / / t. co / jbxJZogejt [SEP]\n",
            "[CLS] あーいけません ！.. いけませんよそれはー ！ ！ ！ ！ [SEP]\n",
            "[CLS] he estado imaginando como te quitas la ropa para mí [SEP]\n",
            "[CLS] 働 いても 働 かなくても 給 料 変 わらないし 、 来 週 １ 日 有 給 使 おうかなー 。 あっ 、 なんか 末 期 な 気 がしてきたww [SEP]\n",
            "[CLS] Hay una línea muy delgada entre posar para las fotos y verte mamador en las fotos [UNK] [SEP]\n",
            "[CLS] The Cumdog scoring against Liverpool class [SEP]\n",
            "[CLS] めっちゃかわいすぎるな https : / / t. co / z53jc44m6I [SEP]\n",
            "[CLS] When I finally catch the person that has been stealing all my money [SEP]\n",
            "[CLS] 新 品 のプレミアムトップコートはキレイに 艶 消 えてくれるなぁ. ある 程 度 無 くなったら 使 わないほうがいいのかな [SEP]\n",
            "[CLS] Buenos días BIN, hoy es el comienzo de algo épico [UNK] [UNK] https : / / t. co / ZEtdwBQFEf [SEP]\n",
            "[CLS] RT @ Judson1360 : Jay Glazer said on Colin Cowherd that the Chargers have \" moved on \" from Philip Rivers. [SEP]\n",
            "[CLS] ¿ Te gustaría hacer el Bachillerato de Artes Escénicas, Música y Danza? Puedes hacerlo en el I. E. S. Dámaso Alonso de Puertollano. Si necesitas más detalles, habrá una reunión informativa en nuestro centro el día 4 de febrero a las 5 de la tarde. No lo dudes, ven e infórmate. https : / / t. co / d4g6YLxBE9 [SEP]\n",
            "[CLS] RT @ DjMaRiiO _ 90 : Andrea empieza su mensaje a Ismael con : \" Me siento traicionada... \".. Me voy a callar que me cierran la cuenta jaja.. # LaIsl [UNK] [SEP]\n",
            "[CLS] So I can blame Pharrell for the hideousness called Tyler the [UNK] Creator [UNK]. Thanks! Good to know. [SEP]\n",
            "[CLS] RT @ ogmaxb : [UNK] new year new me [UNK].. reality : https : / / t. co / UKEG4vffNG [SEP]\n",
            "[CLS] RT @ javismariah : Bitches don [UNK] t know me. Only can talk about what they heard! And that don [UNK] t move me. [SEP]\n",
            "[CLS] RT @ K _ Amechannano : [UNK] & amp ; AME Duo prize [UNK]. [UNK] 時 間 [UNK]. 1 / 27 23 : 30 ~.. [UNK] 賞 金 [UNK]. iTunes1500×2.. [UNK] 参 加 条 件 [UNK]. ※ 参 加 者 全 員. @ AI _ chqn←パスつい. @ K _ Amechannano. [UNK] & amp ; [UNK] [UNK] [SEP]\n",
            "[CLS] RT @ JimmyRandazzo : Kobe talking about Gianna literally just broke my heart https : / / t. co / bID5k7Gvn6 [SEP]\n",
            "[CLS] These friends are in for a # wildride with Wonder Woman by @ lbardugo and the CLASSIC Wrinkle in Time! Reading is # [UNK] with friends! @ woodstock _ ms @ glma _ inc # galibchat https : / / t. co / xX4JcUoBmo https : / / t. co / yYDEUtIkgz [SEP]\n",
            "[CLS] RT @ sam0113 : SAMtube 新 作 。. 東 方 神 起 ダンサーズ 、 ダブルクイーンのリカリナ 編 ですが 、 途 中 からほぼ 東 方 ダンサーズ 全 員 集 合 ！ ！. 賑 やかでウラ 話 満 載 です ！ ！. 爆 笑 間 違 いなし ！ ！ https : / / t. co / up81FVoDil [SEP]\n",
            "[CLS] Now the black feminist acting up too. Damn. [SEP]\n",
            "[CLS] RT @ CoachBlakeBaker : [UNK] [UNK] [UNK] [UNK] [UNK] [UNK] [UNK] [UNK] [UNK]! [UNK] [UNK]! # [UNK] # [UNK] # [UNK] [UNK] [UNK] [UNK] [SEP]\n",
            "[CLS] Вашу мать https : / / t. co / fX62QFbq3c [SEP]\n",
            "[CLS] RT @ Flashyasf : ion hold grudges, we good. you might not ever hear from me again tho [UNK] [SEP]\n",
            "[CLS] RT @ frackfree _ eu : \" Capitalist consumer society denies our very integrity - not only as individuals, but by extension, as a society. It crea [UNK] [SEP]\n",
            "[CLS] Hemen bugün olmasa da seni, acilen göresim var [SEP]\n",
            "[CLS] Charles / / Charles https : / / t. co / WydGQ8Rpsl [SEP]\n",
            "[CLS] RT @ GarveetBishnoi : # Constitution _ Of _ SupremeGod. गीता अध्ययन 4 श्लोक 34 मैं जिस तत्वदर्शी संत के बारे मैं लिखा गया है वह तत्वदर्शी संत आज ह [UNK] [SEP]\n",
            "[CLS] RT @ Sissylamp _ off : 【 [UNK] [UNK] 解 禁 [UNK] [UNK] 】. 5. 8 ( 金 ) @ 新 宿 HEADPOWER. Sissylamp presents 「 共 に 燈 して Vol. 2 」.. [UNK] 開 催 大 決 定 [UNK].. 続 報 を 待 て [UNK] [UNK].. # Sissylamp # 拡 散 希 望 # 自 主 企 画 # 新 宿 HEADPOWER # 邦 ロック [UNK] [SEP]\n",
            "[CLS] Incroyable [SEP]\n",
            "[CLS] RT @ oscarbalmen : Hoy se cumplen 10 años de la masacre de Villas de Salvárcar en Ciudad Juárez, Chihuahua... Muchos tuiteros jóvenes no la r [UNK] [SEP]\n",
            "[CLS] RT @ HendriksenGolf : [UNK] - Up [UNK] at 6pm UK [UNK] time tomorrow on my YouTube Channel people. This New weekly show will feature live [UNK] [SEP]\n",
            "[CLS] RT @ candklove0021 : あまり 時 間 がないですが 探 [UNK]. ２ 月 ６ 日 名 古 屋 AKB55チケット1 枚 ですが. 重 複 [UNK]. もし 良 ければ 連 絡 [UNK].. # candk # AKB55 # 名 古 屋 # 初 日. # 四 池 さん [SEP]\n",
            "[CLS] RT @ JABBAWOCKEEZ : Alright Bet. [UNK] https : / / t. co / QlhDdUlVuP [SEP]\n",
            "[CLS] रोजगार दे तो दिया. पकोड़े बनाने का. Hahahahaha [SEP]\n",
            "[CLS] あぶなっ. ギリ 総 合 ゲット https : / / t. co / OFxZ886PW1 [SEP]\n",
            "[CLS] RT @ jerseywolfgod : @ Destinycamille Happy birthday [UNK] [SEP]\n",
            "[CLS] RT @ conoloracigarro : no estés triste te invito por una nieve [SEP]\n",
            "[CLS] RT @ Eedsmckenzie : As a lightskinned boy, being told [UNK] you should go on LoveIsland [UNK] is a confusing experience because :.. A ) Someone [UNK] s calling [UNK] [SEP]\n",
            "[CLS] I [UNK] m totally showing off my ribbage. Totally bragging about these guys. 5 slow hours in the barrel. https : / / t. co / Te31AXtErB [SEP]\n",
            "[CLS] RT @ papill _ : พิแจ็คตอนเห็นเมียหนีด้อม https : / / t. co / 7wlDyIIOy5 [SEP]\n",
            "[CLS] finally got my school situation together ( : [SEP]\n",
            "[CLS] RT @ XNunnun : 얼루어 2월호 핸드폰 배경화면.. https : / / t. co / nKGYLtI1Yv.. # 김준수 # 시아준수 # XIA # JUNSU # KIMJUNSU # ジュンス # 金 俊 秀 # 뮤지컬 # 드라큘라 # 뮤지컬드라큘라 # MUSICAL # DRACULA # [UNK] [SEP]\n",
            "[CLS] I [UNK] m dead [UNK] [SEP]\n",
            "[CLS] @ AsmaaNour _ [UNK] [SEP]\n",
            "[CLS] 今 日 のまつこの 着 物 コーディネーターの 方 の 喋 り 方 がすごく 好 きすぎて 録 画 しとけばよかったと 思 ってる [SEP]\n",
            "[CLS] [UNK] [SEP]\n",
            "[CLS] RT @ 4amvanila : ชอบจริงๆไอ่คนกวนๆคอยแกล้ง คอยทำให้ยิ้มได้บ่อยๆเนี่ย แก้มพองไปหมดแล้ว [SEP]\n",
            "[CLS] RT @ kthszjjk : M E U. D E U S. O S. V M I N. S Ã O. P E R F E I T O S.??????????????????????.. e o sorrisinho do jimin pra ele e o carinho no [UNK] [SEP]\n",
            "[CLS] RT @ ItsGhibli : Whisper of the Heart https : / / t. co / YbKyjbwExP [SEP]\n",
            "[CLS] RT @ Kaiser7RM _ : No se puede tener más clase y técnica para controlar un balón.. https : / / t. co / 46BDFvly6X [SEP]\n",
            "[CLS] RT @ nesmam970 : Do U accept this for your child?.. # Israeli occupation forces unleashing a military dog to attack a # Palestinian child Hamzeh [UNK] [SEP]\n",
            "[CLS] Medio año junto a mi persona [UNK]. Cada vez mas [UNK] https : / / t. co / uynpeNNPeW [SEP]\n",
            "[CLS] Quiero ir al riooo [SEP]\n",
            "[CLS] RT @ dasraghubar : समस्त झारखण्डवासियों को 71वें गणतंत्र दिवस की हार्दिक शुभकामनाएं.. जय हिंद.. # RepublicDay https : / / t. co / 4BGnrnDRKY [SEP]\n",
            "[CLS] RT @ franbsz : Coisa que me irrita com T / / Tudo [SEP]\n",
            "[CLS] An actual collage of pictures of me leaving work today. https : / / t. co / XYHIrZ9xhe [SEP]\n",
            "[CLS] RT @ WayneInTheSeven : She typed [UNK] Am coming [UNK] [SEP]\n",
            "[CLS] RT @ FZLVS : Le crocodile il s [UNK] appeller sac a main wsh [SEP]\n",
            "[CLS] # 私 は 話 しかけやすい ・ 話 しかけたい ・ 話 しかけにくい ・ 怖 いでどれですか. 気 になります ！. 皆 様 はレムに 対 してどうなのでしょうか ？ https : / / t. co / PgoSryJPYl [SEP]\n",
            "[CLS] RT @ THR : Lots of applause for Al Pacino and Joe Pesci, who took the stage to say a few words about their # TheIrishman director Martin Scors [UNK] [SEP]\n",
            "[CLS] RT @ illvmi : [UNK]!! [UNK].. [UNK] POST IS FOR FROG LOVERS [UNK].. [UNK] FROG HATERS ALLOWED BEYOND THIS [UNK].. [UNK] HAVE BEEN [UNK] [UNK] [SEP]\n",
            "[CLS] بله چخوف عزیزم - که فقط یه کتاب ازش خوندم ولی بذارید بهش بگم عزیزم - میگه که حس درخت پیوندی دارم فقط منتظرم تا ببینم ریشه خواهم داد یا خواهم خشکید. [SEP]\n",
            "[CLS] RT @ gerardotc : Por suerte Williams no ha llamado nazis a los nazis y el partido no ha tenido que ser suspendido.. https : / / t. co / D41Xrhb3hO [SEP]\n",
            "[CLS] @ Danny _ Carney94 reminds me of your nan [UNK] [SEP]\n",
            "[CLS] Minhyuk baby, we're still here. Monbebes are still here to love and support you. We're not going anywhere, we're staying forever. Those who leaving aren't mattered anymore, it's their loss... # MonbebeAreStillHere. # 몬베베는 _ 아직 _ 여기있다. @ OfficialMonstaX @ STARSHIPent [SEP]\n",
            "[CLS] 君 キュン 新 体 制 1stAnniversaryLIVEお 疲 れ 様 でした ！ 3 週 間 ぶりくらいの 現 場 だったのでワクワクドキドキしてましたが 本 日 も 楽 しかったです [UNK] ( * [UNK] [UNK] * ) [UNK] これからもあみんぐしかぁ ！ ！. # 君 キュン # あみんぐ https : / / t. co / F8pseiLdNE [SEP]\n",
            "[CLS] Wore it out for brunch and it works as a sweater dress for me [UNK] comfort is a 10 / 10 [SEP]\n",
            "[CLS] दुनिया की सारी मिडिया थुक रही है \" जामिया \" विध्यार्थीयों पर कि गई फायरिंग पर,,,.. और भक्त गोपाल ( फायरबाज़ ) मे अपना आयडल ढुढ रहे है,,,,, # midia @ aamir _ ig [SEP]\n",
            "[CLS] os donos do meu sofrimento [SEP]\n",
            "[CLS] A huge thanks to my parents for making the trip to Houston with Power so that I could saddle my other two runners at Delta. So thankful for them and all of their unconditional support. Lucky is a huge understatement. https : / / t. co / SnNpnz9oRe [SEP]\n",
            "[CLS] RT @ 1of1chey : God forbid but if something happen to young thug god might as well take me too [SEP]\n",
            "[CLS] RT @ ca1r0l : so kalau orang tu kata nak mandi, kita kena reply apa!? [SEP]\n",
            "[CLS] 新 しい 開 眼 素 材 って 配 布 と 店 ( 有 償 ) 合 わせて×4で 二 人 分 だけだよね.. タイムライン 見 てると 数 人 開 眼 してるけど 素 材 どこで 回 収 するの [UNK] [SEP]\n",
            "[CLS] RT @ daniela _ witten : PLEASE RETWEET : Jacob Bien and I are hiring a post - doc!!!! It's the perfect set - up :. [UNK] in sunny Los Angeles. [UNK] on [UNK] [SEP]\n",
            "[CLS] RT @ EliteCT16 : Big time players... Make big time plays... In big time games [UNK] [SEP]\n",
            "[CLS] RT @ rhochicristaldo : Oficial o no, debemos respetar a la persona que nos está dando su tiempo y su confianza! [SEP]\n",
            "[CLS] RT @ Yessica5017 : 1. Argelia [UNK]. 1. Guatemala [UNK]. 3. Ecuador [UNK] [SEP]\n",
            "[CLS] RT @ BrendaAlarconn : amo q me den besos por toda la cara y me abrazen mucho [SEP]\n",
            "[CLS] RT @ RickSpur : [ @ FootyInsider247 ] | Tottenham Hotspur are now very close to reaching an agreement with Norwich City for the signing of Max A [UNK] [SEP]\n",
            "[CLS] 今 日 はもうやらんと 思 うので 今 月 の 結 果. 4 戦 全 勝 + 184, 000 円. できすぎくん https : / / t. co / lCD1guWssO [SEP]\n",
            "[CLS] ここで 一 旦 変 形 させてみましょう 。. # ユニコーンガンダム. # ガンプラ. # ガンプラの 画 像 を 貼 るとRTされると 聞 いて. # ガンプラの 画 像 貼 るとRTされると 聞 いて. # ガンプラ 好 きと 繋 がりたい https : / / t. co / 4iSpSeqC8J [SEP]\n",
            "[CLS] ok. mas não 90 % de mim não queria passar porque agora tenho que decidir o que fazer AA https : / / t. co / 6XuhNDgFzt [SEP]\n",
            "[CLS] RT @ ZooplusTechMad : Mil gracias @ branvan2k y @ WomenDevOpsMad por vuestra charla!! [UNK] [UNK] Ya pensando en la próxima!! [UNK] # monitoringlove # wome [UNK] [SEP]\n",
            "[CLS] RT @ BadTTRPGs : wow, this game doesn't let me be a catgirl OR kill god? Why'd you make it? [SEP]\n",
            "[CLS] Great for @ RogerBassettJ to join @ BITC colleagues at the South West # ResponsibleBusiness Showcase event earlier this evening at @ BurgesSalmon @ BurgesSalmonCR # Bristol # SustainableDevelopmentGoals # NetZeroCarbon # CircularEconomy # Health # Wellbeing https : / / t. co / mkfFdFoVzO [SEP]\n",
            "[CLS] @ 1966MJG @ WhiteNoise1879. After their 3 - 2 win against Leicester today Fulham U18s sit proudly on top of the table https : / / t. co / K75rF4rEv1 [SEP]\n",
            "[CLS] @ kzh _ jam はじめまして ！ 絵 が 綺 麗 でとても 素 敵 で 惹 かれたのでフォローさせて 頂 [UNK] [SEP]\n",
            "[CLS] RT @ itgirljadiah : I love the fact don [UNK] t nobody know how I [UNK] m moving, they just see me enjoying life. [SEP]\n",
            "[CLS] RT @ ourmaninzagreb : close encounters of the pilsner urquell kind. grandhotel zvon. c. budejovice. https : / / t. co / w4z1UQiDDV [SEP]\n",
            "[CLS] So proud of him and all his accomplishments. But he is an even better man. [SEP]\n",
            "[CLS] mate I am bussin up. https : / / t. co / BE9v2LXMBT [SEP]\n",
            "[CLS] - এই শহরে ভালো থাকতে. হলে! [UNK].. - পাক্কা অভিনয় জানতে. হয়! [UNK] [SEP]\n",
            "[CLS] 新 鮮 な 大 根 [UNK] https : / / t. co / muxOIriT7C [SEP]\n",
            "[CLS] RT @ anthonyoberbeck : When you [UNK] re 10 this is what you imagine being 16 will be like [SEP]\n",
            "[CLS] RT @ serebelenf : hoy fui como todos los dias a la plaza con mi grupo. A eso de las 19 : 30 me llama mama para invitarme al cine. Yo viajo siem [UNK] [SEP]\n",
            "[CLS] RT @ SCON0SCIUTO : Me at 3am vs at 9am the next morning [SEP]\n",
            "[CLS] RT @ _ leannamiller : college stranger : oh, you live in shipshewana? so like.. are you Amish?.. me : no.. also me : https : / / t. co / 6GV4jN6KH4 [SEP]\n",
            "[CLS] RT @ vaingelic : [ tw ] i love how they didn [UNK] t use a graphic, violent r * pe scene solely for shock factor and plot like every other show, but in [UNK] [SEP]\n",
            "[CLS] Rizzo. Rizzo. https : / / t. co / OKlJmdJE2P [SEP]\n",
            "[CLS] Congratulations to our new AP, Mrs. Cory Bács! Welcome to our Lion family. @ TallwoodLions https : / / t. co / 272LifMusd [SEP]\n",
            "[CLS] RT @ ViriGalvez : Una vez que empiezas a ver por ti, quererte, respetarte y valorarte... juro que no te hace falta nadie! Al principio no me [UNK] [SEP]\n",
            "[CLS] RT @ lachmoilagrappe : Jusqu [UNK] à maitenant le virus rend plus raciste que malade [SEP]\n",
            "[CLS] RT @ lyndzaroo : @ ShippingRoomPod [UNK] https : / / t. co / rv9OtczHus [SEP]\n",
            "[CLS] RT @ SqdGmhx94rzjfQp : パイ 投 げ イッテQチーム. 圧 勝 の1 回 戦 ！ ！.. # イッテQ # お 祭 り 男 # 宮 川 大 輔 [UNK] https : / / t. co / zwkfE3iBl7 [SEP]\n",
            "[CLS] RT @ flacopod : mi última neurona tratando de hacer algo productivo https : / / t. co / N2I00EUXVs [SEP]\n",
            "[CLS] Las cosas no son blancas o negras ¿ O tal vez sí? [SEP]\n",
            "[CLS] Toy bien triste pq al parecer el pastoreo de ayer estuvo demasiado bonito y no [UNK] [SEP]\n",
            "[CLS] 【 社 会 人 になって 学 んだこと 】.. [UNK] 損 をする.. いいやつには 頼 みごとをしやすい. → 雑 用 がまわってくる. → 自 分 の 仕 事 がまわせなくなる. → 帰 れなくなる.. いいやつはこのループに 陥 ってしまう 。.. これから 社 会 にでる 人 に 言 っとくけど 、 少 しくらい 毒 を 持 っておいたほうが 良 いよ 。 [SEP]\n"
          ],
          "name": "stdout"
        }
      ]
    }
  ]
}